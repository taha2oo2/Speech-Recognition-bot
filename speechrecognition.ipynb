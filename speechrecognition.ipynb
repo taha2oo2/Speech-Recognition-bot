{
 "cells": [
  {
   "cell_type": "code",
   "execution_count": 1,
   "id": "b6c71a3e",
   "metadata": {},
   "outputs": [
    {
     "name": "stdout",
     "output_type": "stream",
     "text": [
      "Collecting pyaudio\n",
      "  Downloading PyAudio-0.2.13-cp39-cp39-win_amd64.whl (164 kB)\n",
      "     -------------------------------------- 164.1/164.1 kB 2.0 MB/s eta 0:00:00\n",
      "Installing collected packages: pyaudio\n",
      "Successfully installed pyaudio-0.2.13\n",
      "Note: you may need to restart the kernel to use updated packages.\n"
     ]
    }
   ],
   "source": [
    "pip install pyaudio"
   ]
  },
  {
   "cell_type": "code",
   "execution_count": 3,
   "id": "f4ee2a0d",
   "metadata": {},
   "outputs": [
    {
     "name": "stdout",
     "output_type": "stream",
     "text": [
      "Collecting pyttsx3\n",
      "  Downloading pyttsx3-2.90-py3-none-any.whl (39 kB)\n",
      "Requirement already satisfied: pywin32 in c:\\users\\administrator\\anaconda3\\lib\\site-packages (from pyttsx3) (302)\n",
      "Requirement already satisfied: comtypes in c:\\users\\administrator\\anaconda3\\lib\\site-packages (from pyttsx3) (1.1.10)\n",
      "Collecting pypiwin32\n",
      "  Downloading pypiwin32-223-py3-none-any.whl (1.7 kB)\n",
      "Installing collected packages: pypiwin32, pyttsx3\n",
      "Successfully installed pypiwin32-223 pyttsx3-2.90\n",
      "Note: you may need to restart the kernel to use updated packages.\n"
     ]
    }
   ],
   "source": [
    "pip install pyttsx3"
   ]
  },
  {
   "cell_type": "code",
   "execution_count": 4,
   "id": "51f2931e",
   "metadata": {},
   "outputs": [
    {
     "name": "stdout",
     "output_type": "stream",
     "text": [
      "Collecting wikipedia\n",
      "  Downloading wikipedia-1.4.0.tar.gz (27 kB)\n",
      "  Preparing metadata (setup.py): started\n",
      "  Preparing metadata (setup.py): finished with status 'done'\n",
      "Requirement already satisfied: beautifulsoup4 in c:\\users\\administrator\\anaconda3\\lib\\site-packages (from wikipedia) (4.11.1)\n",
      "Requirement already satisfied: requests<3.0.0,>=2.0.0 in c:\\users\\administrator\\anaconda3\\lib\\site-packages (from wikipedia) (2.28.1)\n",
      "Requirement already satisfied: urllib3<1.27,>=1.21.1 in c:\\users\\administrator\\anaconda3\\lib\\site-packages (from requests<3.0.0,>=2.0.0->wikipedia) (1.26.11)\n",
      "Requirement already satisfied: certifi>=2017.4.17 in c:\\users\\administrator\\anaconda3\\lib\\site-packages (from requests<3.0.0,>=2.0.0->wikipedia) (2022.9.14)\n",
      "Requirement already satisfied: idna<4,>=2.5 in c:\\users\\administrator\\anaconda3\\lib\\site-packages (from requests<3.0.0,>=2.0.0->wikipedia) (3.3)\n",
      "Requirement already satisfied: charset-normalizer<3,>=2 in c:\\users\\administrator\\anaconda3\\lib\\site-packages (from requests<3.0.0,>=2.0.0->wikipedia) (2.0.4)\n",
      "Requirement already satisfied: soupsieve>1.2 in c:\\users\\administrator\\anaconda3\\lib\\site-packages (from beautifulsoup4->wikipedia) (2.3.1)\n",
      "Building wheels for collected packages: wikipedia\n",
      "  Building wheel for wikipedia (setup.py): started\n",
      "  Building wheel for wikipedia (setup.py): finished with status 'done'\n",
      "  Created wheel for wikipedia: filename=wikipedia-1.4.0-py3-none-any.whl size=11680 sha256=dd80b790a86bcc2badb1e647f04efe7d61adcb23b0907470ba7d7ff67896c3f2\n",
      "  Stored in directory: c:\\users\\administrator\\appdata\\local\\pip\\cache\\wheels\\c2\\46\\f4\\caa1bee71096d7b0cdca2f2a2af45cacf35c5760bee8f00948\n",
      "Successfully built wikipedia\n",
      "Installing collected packages: wikipedia\n",
      "Successfully installed wikipedia-1.4.0\n",
      "Note: you may need to restart the kernel to use updated packages.\n"
     ]
    }
   ],
   "source": [
    "pip install wikipedia\n"
   ]
  },
  {
   "cell_type": "code",
   "execution_count": 6,
   "id": "f4255189",
   "metadata": {},
   "outputs": [
    {
     "name": "stdout",
     "output_type": "stream",
     "text": [
      "Collecting speechRecognition\n",
      "  Downloading SpeechRecognition-3.10.0-py2.py3-none-any.whl (32.8 MB)\n",
      "     -------------------------------------- 32.8/32.8 MB 497.8 kB/s eta 0:00:00\n",
      "Requirement already satisfied: requests>=2.26.0 in c:\\users\\administrator\\anaconda3\\lib\\site-packages (from speechRecognition) (2.28.1)\n",
      "Requirement already satisfied: urllib3<1.27,>=1.21.1 in c:\\users\\administrator\\anaconda3\\lib\\site-packages (from requests>=2.26.0->speechRecognition) (1.26.11)\n",
      "Requirement already satisfied: certifi>=2017.4.17 in c:\\users\\administrator\\anaconda3\\lib\\site-packages (from requests>=2.26.0->speechRecognition) (2022.9.14)\n",
      "Requirement already satisfied: charset-normalizer<3,>=2 in c:\\users\\administrator\\anaconda3\\lib\\site-packages (from requests>=2.26.0->speechRecognition) (2.0.4)\n",
      "Requirement already satisfied: idna<4,>=2.5 in c:\\users\\administrator\\anaconda3\\lib\\site-packages (from requests>=2.26.0->speechRecognition) (3.3)\n",
      "Installing collected packages: speechRecognition\n",
      "Successfully installed speechRecognition-3.10.0\n",
      "Note: you may need to restart the kernel to use updated packages.\n"
     ]
    }
   ],
   "source": [
    "pip install speechRecognition"
   ]
  },
  {
   "cell_type": "code",
   "execution_count": 12,
   "id": "dec4e72f",
   "metadata": {},
   "outputs": [
    {
     "ename": "TypeError",
     "evalue": "'>=' not supported between instances of 'int' and 'str'",
     "output_type": "error",
     "traceback": [
      "\u001b[1;31m---------------------------------------------------------------------------\u001b[0m",
      "\u001b[1;31mTypeError\u001b[0m                                 Traceback (most recent call last)",
      "\u001b[1;32m~\\AppData\\Local\\Temp\\ipykernel_6028\\1643579009.py\u001b[0m in \u001b[0;36m<module>\u001b[1;34m\u001b[0m\n\u001b[0;32m     60\u001b[0m \u001b[1;33m\u001b[0m\u001b[0m\n\u001b[0;32m     61\u001b[0m \u001b[1;32mif\u001b[0m \u001b[0m__name__\u001b[0m \u001b[1;33m==\u001b[0m \u001b[1;34m\"__main__\"\u001b[0m\u001b[1;33m:\u001b[0m\u001b[1;33m\u001b[0m\u001b[1;33m\u001b[0m\u001b[0m\n\u001b[1;32m---> 62\u001b[1;33m     \u001b[0mwishMe\u001b[0m\u001b[1;33m(\u001b[0m\u001b[1;33m)\u001b[0m\u001b[1;33m\u001b[0m\u001b[1;33m\u001b[0m\u001b[0m\n\u001b[0m\u001b[0;32m     63\u001b[0m     \u001b[1;32mwhile\u001b[0m \u001b[1;32mTrue\u001b[0m\u001b[1;33m:\u001b[0m\u001b[1;33m\u001b[0m\u001b[1;33m\u001b[0m\u001b[0m\n\u001b[0;32m     64\u001b[0m     \u001b[1;31m# if 1:\u001b[0m\u001b[1;33m\u001b[0m\u001b[1;33m\u001b[0m\u001b[0m\n",
      "\u001b[1;32m~\\AppData\\Local\\Temp\\ipykernel_6028\\1643579009.py\u001b[0m in \u001b[0;36mwishMe\u001b[1;34m()\u001b[0m\n\u001b[0;32m     20\u001b[0m \u001b[1;32mdef\u001b[0m \u001b[0mwishMe\u001b[0m\u001b[1;33m(\u001b[0m\u001b[1;33m)\u001b[0m\u001b[1;33m:\u001b[0m\u001b[1;33m\u001b[0m\u001b[1;33m\u001b[0m\u001b[0m\n\u001b[0;32m     21\u001b[0m     \u001b[0mhour\u001b[0m \u001b[1;33m=\u001b[0m \u001b[0mint\u001b[0m\u001b[1;33m(\u001b[0m\u001b[0mdatetime\u001b[0m\u001b[1;33m.\u001b[0m\u001b[0mdatetime\u001b[0m\u001b[1;33m.\u001b[0m\u001b[0mnow\u001b[0m\u001b[1;33m(\u001b[0m\u001b[1;33m)\u001b[0m\u001b[1;33m.\u001b[0m\u001b[0mhour\u001b[0m\u001b[1;33m)\u001b[0m\u001b[1;33m\u001b[0m\u001b[1;33m\u001b[0m\u001b[0m\n\u001b[1;32m---> 22\u001b[1;33m     \u001b[1;32mif\u001b[0m \u001b[0mhour\u001b[0m\u001b[1;33m>=\u001b[0m\u001b[1;34m\"4am\"\u001b[0m \u001b[1;32mand\u001b[0m \u001b[0mhour\u001b[0m\u001b[1;33m<\u001b[0m\u001b[1;34m\"12am\"\u001b[0m\u001b[1;33m:\u001b[0m\u001b[1;33m\u001b[0m\u001b[1;33m\u001b[0m\u001b[0m\n\u001b[0m\u001b[0;32m     23\u001b[0m         \u001b[0mspeak\u001b[0m\u001b[1;33m(\u001b[0m\u001b[1;34m\"Good Morning!\"\u001b[0m\u001b[1;33m)\u001b[0m\u001b[1;33m\u001b[0m\u001b[1;33m\u001b[0m\u001b[0m\n\u001b[0;32m     24\u001b[0m \u001b[1;33m\u001b[0m\u001b[0m\n",
      "\u001b[1;31mTypeError\u001b[0m: '>=' not supported between instances of 'int' and 'str'"
     ]
    }
   ],
   "source": [
    "import pyttsx3\n",
    "import speech_recognition as sr\n",
    "import datetime\n",
    "import wikipedia\n",
    "import webbrowser\n",
    "import os\n",
    "import smtplib\n",
    "\n",
    "engine = pyttsx3.init('sapi5')\n",
    "voices = engine.getProperty('voices')\n",
    "# print(voices[1].id)\n",
    "engine.setProperty('voice', voices[0].id)\n",
    "\n",
    "\n",
    "def speak(audio):\n",
    "    engine.say(audio)\n",
    "    engine.runAndWait()\n",
    "\n",
    "\n",
    "def wishMe():\n",
    "    hour = int(datetime.datetime.now().hour)\n",
    "    if hour>=0 and hour<12:\n",
    "        speak(\"Good Morning!\")\n",
    "\n",
    "    elif hour>=12 and hour<18:\n",
    "        speak(\"Good Afternoon!\")   \n",
    "\n",
    "    else:\n",
    "        speak(\"Good Evening!\")  \n",
    "\n",
    "    speak(\"I am bot designed by taha how may I help you\")       \n",
    "\n",
    "def takeCommand():\n",
    "    #It takes microphone input from the user and returns string output\n",
    "\n",
    "    r = sr.Recognizer()\n",
    "    with sr.Microphone() as source:\n",
    "        print(\"Listening...\")\n",
    "        r.pause_threshold = 1\n",
    "        audio = r.listen(source)\n",
    "\n",
    "    try:\n",
    "        print(\"Recognizing...\")    \n",
    "        query = r.recognize_google(audio, language='en-in')\n",
    "        print(f\"User said: {query}\\n\")\n",
    "\n",
    "    except Exception as e:\n",
    "        # print(e)    \n",
    "        print(\"Say that again please...\")  \n",
    "        return \"None\"\n",
    "    return query\n",
    "\n",
    "def sendEmail(to, content):\n",
    "    server = smtplib.SMTP('smtp.gmail.com', 587)\n",
    "    server.ehlo()\n",
    "    server.starttls()\n",
    "    server.login('youremail@gmail.com', 'your-password')\n",
    "    server.sendmail('youremail@gmail.com', to, content)\n",
    "    server.close()\n",
    "\n",
    "if __name__ == \"__main__\":\n",
    "    wishMe()\n",
    "    while True:\n",
    "    # if 1:\n",
    "        query = takeCommand().lower()\n",
    "\n",
    "        # Logic for executing tasks based on query\n",
    "        if 'wikipedia' in query:\n",
    "            speak('Searching Wikipedia...')\n",
    "            query = query.replace(\"wikipedia\", \"\")\n",
    "            results = wikipedia.summary(query, sentences=2)\n",
    "            speak(\"According to Wikipedia\")\n",
    "            print(results)\n",
    "            speak(results)\n",
    "\n",
    "        elif 'open youtube' in query:\n",
    "            webbrowser.open(\"youtube.com\")\n",
    "\n",
    "        elif 'open google' in query:\n",
    "            webbrowser.open(\"google.com\")\n",
    "\n",
    "        elif 'open stackoverflow' in query:\n",
    "            webbrowser.open(\"stackoverflow.com\")   \n",
    "\n",
    "\n",
    "        elif 'play music' in query:\n",
    "            music_dir = 'D:\\\\Non Critical\\\\songs\\\\Favorite Songs2'\n",
    "            songs = os.listdir(music_dir)\n",
    "            print(songs)    \n",
    "            os.startfile(os.path.join(music_dir, songs[0]))\n",
    "\n",
    "        elif 'the time' in query:\n",
    "            strTime = datetime.datetime.now().strftime(\"%H:%M:%S\")    \n",
    "            speak(f\"Sir, the time is {strTime}\")\n",
    "\n",
    "        elif 'open code' in query:\n",
    "            codePath = \"https://www.freecodecamp.org/news/python-code-examples-sample-script-coding-tutorial-for-beginners/\"\n",
    "            os.startfile(codePath)\n",
    "\n",
    "        elif 'email to taha' in query:\n",
    "            try:\n",
    "                speak(\"What should I say?\")\n",
    "                content = takeCommand()\n",
    "                to = \"tahaqadri141@gmail.com\"    \n",
    "                sendEmail(to, content)\n",
    "                speak(\"Email has been sent!\")\n",
    "            except Exception as e:\n",
    "                print(e)\n",
    "                speak(\"Sorry my friend.I am not able to send this email\") \n",
    "        \n",
    "        elif 'thank you' in query:\n",
    "            break\n",
    "        else:\n",
    "            print(\"No query matched\")"
   ]
  },
  {
   "cell_type": "code",
   "execution_count": null,
   "id": "3e8ebf52",
   "metadata": {},
   "outputs": [],
   "source": []
  },
  {
   "cell_type": "code",
   "execution_count": null,
   "id": "6c1cebc5",
   "metadata": {},
   "outputs": [],
   "source": []
  }
 ],
 "metadata": {
  "kernelspec": {
   "display_name": "Python 3 (ipykernel)",
   "language": "python",
   "name": "python3"
  },
  "language_info": {
   "codemirror_mode": {
    "name": "ipython",
    "version": 3
   },
   "file_extension": ".py",
   "mimetype": "text/x-python",
   "name": "python",
   "nbconvert_exporter": "python",
   "pygments_lexer": "ipython3",
   "version": "3.9.13"
  }
 },
 "nbformat": 4,
 "nbformat_minor": 5
}
